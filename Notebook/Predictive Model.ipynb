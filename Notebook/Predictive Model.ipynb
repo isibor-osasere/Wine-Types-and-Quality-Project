{
 "cells": [
  {
   "cell_type": "markdown",
   "id": "d74da2bb",
   "metadata": {},
   "source": [
    "# Problem Statement\n",
    "Since we are done with the Exploratory Data Analysis our next task is to Predict wine types (Red or White) and quality_labels"
   ]
  },
  {
   "cell_type": "markdown",
   "id": "c5a18ffe",
   "metadata": {},
   "source": [
    "### Importing Required Model"
   ]
  },
  {
   "cell_type": "code",
   "execution_count": 12,
   "id": "8ce0e8ad",
   "metadata": {},
   "outputs": [],
   "source": [
    "import pandas as pd\n",
    "import numpy as np\n",
    "from collections import Counter\n",
    "import matplotlib.pyplot as plt\n",
    "from sklearn.preprocessing import StandardScaler, LabelEncoder\n",
    "from sklearn.model_selection import train_test_split"
   ]
  },
  {
   "cell_type": "markdown",
   "id": "56228d90",
   "metadata": {},
   "source": [
    "### Reading Dataset"
   ]
  },
  {
   "cell_type": "code",
   "execution_count": 6,
   "id": "61b7dd27",
   "metadata": {},
   "outputs": [],
   "source": [
    "df_red = pd.read_csv (\"winequality-red.csv\", sep = \";\")\n",
    "df_white = pd.read_csv (\"winequality-white.csv\", sep = \";\")"
   ]
  },
  {
   "cell_type": "markdown",
   "id": "fce13852",
   "metadata": {},
   "source": [
    "## Transforming And Merging Dataset "
   ]
  },
  {
   "cell_type": "code",
   "execution_count": 7,
   "id": "6d2961c8",
   "metadata": {},
   "outputs": [],
   "source": [
    "# Creating wine type Feature\n",
    "df_red[\"wine_type\"] = \"red\"\n",
    "df_white[\"wine_type\"] = \"white\"\n",
    "\n",
    "# bucket wine type score into qualitative quality labels\n",
    "## for red wine\n",
    "df_red[\"quality_label\"] = df_red[\"quality\"].apply (lambda x: \"low\" if x <= 5 else \"medium\"\n",
    "                                                   if x <= 7 else \"high\")\n",
    "df_red[\"quality_label\"] = pd.Categorical (df_red[\"quality_label\"], \n",
    "                                          categories = ['low', 'medium', 'high'])\n",
    "\n",
    "## for white wine\n",
    "df_white[\"quality_label\"] = df_white[\"quality\"].apply (lambda x: \"low\" if x <= 5 else \"medium\"\n",
    "                                                       if x <= 7 else \"high\")\n",
    "df_white[\"quality_label\"] = pd.Categorical (df_white[\"quality_label\"], categories = ['low', 'medium', 'high'])\n",
    "\n",
    "# merge red and white wine dataset\n",
    "wines_df = pd.concat ([df_red, df_white], axis = 0)\n",
    "\n",
    "# re-shuffle records just to randomize data points\n",
    "wines_df = wines_df.sample (frac = 1, random_state = 42).reset_index (drop = True)"
   ]
  },
  {
   "cell_type": "markdown",
   "id": "fb972151",
   "metadata": {},
   "source": [
    "# Predicting Wine Type"
   ]
  },
  {
   "cell_type": "markdown",
   "id": "2946d16f",
   "metadata": {},
   "source": [
    "## Splitting and Scaling the Dataset"
   ]
  },
  {
   "cell_type": "code",
   "execution_count": 93,
   "id": "65d6a244",
   "metadata": {},
   "outputs": [],
   "source": [
    "# Defining my Dependent (x) and Independent (y) columns\n",
    "x = wines_df.iloc[:, : -3]        #all columns except wine_type, quality and quality_label\n",
    "y = wines_df[\"wine_type\"]\n",
    "\n",
    "# Splitting Dataset using train_test_split\n",
    "x_train, x_test, y_train, y_test = train_test_split (x, y, train_size = 0.7, random_state = 42)\n",
    "\n",
    "# Scaling Dataset\n",
    "scaler = StandardScaler ()\n",
    "x_train_s = scaler.fit_transform (x_train)\n",
    "x_test_s = scaler.transform (x_test)"
   ]
  },
  {
   "cell_type": "markdown",
   "id": "ed95269e",
   "metadata": {},
   "source": [
    "# Modeling\n",
    "since we are dealing with a classification (binary classification) Problem we are going to use Classification algorithm. we will use different classification algorithm and then choose the one with the highest accuracy. \n",
    "\n",
    "## Logistic Regression"
   ]
  },
  {
   "cell_type": "code",
   "execution_count": 94,
   "id": "6880d9e8",
   "metadata": {},
   "outputs": [
    {
     "name": "stdout",
     "output_type": "stream",
     "text": [
      "Accuracy Score for LogisticRegression on Test Dataset: 99.0%\n"
     ]
    },
    {
     "data": {
      "text/plain": [
       "['LinearRegression.pkl']"
      ]
     },
     "execution_count": 94,
     "metadata": {},
     "output_type": "execute_result"
    }
   ],
   "source": [
    "# importing model\n",
    "from sklearn.linear_model import LogisticRegression\n",
    "from sklearn.metrics import accuracy_score\n",
    "import joblib as jlb\n",
    "\n",
    "# LogisticRegression\n",
    "model = LogisticRegression ().fit (x_train_s, y_train)\n",
    "\n",
    "# Model accuracy\n",
    "y_pred = model.predict (x_test_s)\n",
    "print (\"Accuracy Score for LogisticRegression on Test Dataset: {}%\".format (round (accuracy_score (y_test, y_pred), 2) * 100))\n",
    "\n",
    "# Saving model\n",
    "jlb.dump (model, \"LinearRegression.pkl\")"
   ]
  },
  {
   "cell_type": "markdown",
   "id": "be3893b1",
   "metadata": {},
   "source": [
    "## Deep Neural Network\n",
    "Lets build a fully connected DNN with 2 hidden layers\n"
   ]
  },
  {
   "cell_type": "code",
   "execution_count": 95,
   "id": "5acdc395",
   "metadata": {},
   "outputs": [
    {
     "name": "stdout",
     "output_type": "stream",
     "text": [
      "Model: \"sequential_2\"\n",
      "_________________________________________________________________\n",
      "Layer (type)                 Output Shape              Param #   \n",
      "=================================================================\n",
      "dense_7 (Dense)              (None, 16)                192       \n",
      "_________________________________________________________________\n",
      "dense_8 (Dense)              (None, 16)                272       \n",
      "_________________________________________________________________\n",
      "dense_9 (Dense)              (None, 16)                272       \n",
      "_________________________________________________________________\n",
      "dense_10 (Dense)             (None, 1)                 17        \n",
      "=================================================================\n",
      "Total params: 753\n",
      "Trainable params: 753\n",
      "Non-trainable params: 0\n",
      "_________________________________________________________________\n"
     ]
    }
   ],
   "source": [
    "# encode wine type labels\n",
    "le = LabelEncoder()\n",
    "le_train_y = le.fit_transform (y_train)\n",
    "le_test_y = le.transform (y_test)\n",
    "\n",
    "# importing required model\n",
    "from keras.models import Sequential\n",
    "from keras.layers import Dense\n",
    "\n",
    "# Fully Connected DNN\n",
    "model = Sequential ()\n",
    "model.add (Dense (16, activation = \"relu\", input_shape = (11, )))\n",
    "model.add (Dense (16, activation = \"relu\"))\n",
    "model.add (Dense (16, activation = \"relu\"))\n",
    "model.add (Dense (1, activation = \"sigmoid\"))\n",
    "model.summary ()"
   ]
  },
  {
   "cell_type": "code",
   "execution_count": 96,
   "id": "0b1c00d3",
   "metadata": {
    "scrolled": true
   },
   "outputs": [
    {
     "name": "stdout",
     "output_type": "stream",
     "text": [
      "Epoch 1/30\n",
      "819/819 [==============================] - 3s 2ms/step - loss: 0.1473 - accuracy: 0.9511 - val_loss: 0.0139 - val_accuracy: 0.9978\n",
      "Epoch 2/30\n",
      "819/819 [==============================] - 2s 2ms/step - loss: 0.0319 - accuracy: 0.9919 - val_loss: 0.0064 - val_accuracy: 1.0000\n",
      "Epoch 3/30\n",
      "819/819 [==============================] - 2s 2ms/step - loss: 0.0252 - accuracy: 0.9939 - val_loss: 0.0060 - val_accuracy: 1.0000\n",
      "Epoch 4/30\n",
      "819/819 [==============================] - 1s 2ms/step - loss: 0.0205 - accuracy: 0.9954 - val_loss: 0.0039 - val_accuracy: 1.0000\n",
      "Epoch 5/30\n",
      "819/819 [==============================] - 1s 2ms/step - loss: 0.0184 - accuracy: 0.9966 - val_loss: 0.0029 - val_accuracy: 1.0000\n",
      "Epoch 6/30\n",
      "819/819 [==============================] - 1s 2ms/step - loss: 0.0158 - accuracy: 0.9971 - val_loss: 0.0024 - val_accuracy: 1.0000\n",
      "Epoch 7/30\n",
      "819/819 [==============================] - 1s 2ms/step - loss: 0.0149 - accuracy: 0.9971 - val_loss: 0.0020 - val_accuracy: 1.0000\n",
      "Epoch 8/30\n",
      "819/819 [==============================] - 1s 2ms/step - loss: 0.0126 - accuracy: 0.9971 - val_loss: 0.0015 - val_accuracy: 1.0000\n",
      "Epoch 9/30\n",
      "819/819 [==============================] - 1s 2ms/step - loss: 0.0117 - accuracy: 0.9973 - val_loss: 0.0011 - val_accuracy: 1.0000\n",
      "Epoch 10/30\n",
      "819/819 [==============================] - 1s 1ms/step - loss: 0.0107 - accuracy: 0.9971 - val_loss: 0.0010 - val_accuracy: 1.0000\n",
      "Epoch 11/30\n",
      "819/819 [==============================] - 1s 2ms/step - loss: 0.0109 - accuracy: 0.9973 - val_loss: 9.5450e-04 - val_accuracy: 1.0000\n",
      "Epoch 12/30\n",
      "819/819 [==============================] - 1s 2ms/step - loss: 0.0088 - accuracy: 0.9978 - val_loss: 0.0022 - val_accuracy: 1.0000\n",
      "Epoch 13/30\n",
      "819/819 [==============================] - 1s 2ms/step - loss: 0.0084 - accuracy: 0.9980 - val_loss: 0.0023 - val_accuracy: 1.0000\n",
      "Epoch 14/30\n",
      "819/819 [==============================] - 2s 2ms/step - loss: 0.0083 - accuracy: 0.9978 - val_loss: 0.0013 - val_accuracy: 1.0000\n",
      "Epoch 15/30\n",
      "819/819 [==============================] - 2s 2ms/step - loss: 0.0092 - accuracy: 0.9973 - val_loss: 0.0020 - val_accuracy: 1.0000\n",
      "Epoch 16/30\n",
      "819/819 [==============================] - 1s 1ms/step - loss: 0.0082 - accuracy: 0.9978 - val_loss: 7.6478e-04 - val_accuracy: 1.0000\n",
      "Epoch 17/30\n",
      "819/819 [==============================] - 1s 2ms/step - loss: 0.0066 - accuracy: 0.9983 - val_loss: 0.0013 - val_accuracy: 1.0000\n",
      "Epoch 18/30\n",
      "819/819 [==============================] - 1s 2ms/step - loss: 0.0073 - accuracy: 0.9978 - val_loss: 8.8447e-04 - val_accuracy: 1.0000\n",
      "Epoch 19/30\n",
      "819/819 [==============================] - 1s 2ms/step - loss: 0.0066 - accuracy: 0.9980 - val_loss: 0.0013 - val_accuracy: 1.0000\n",
      "Epoch 20/30\n",
      "819/819 [==============================] - 1s 2ms/step - loss: 0.0069 - accuracy: 0.9980 - val_loss: 0.0019 - val_accuracy: 1.0000\n",
      "Epoch 21/30\n",
      "819/819 [==============================] - 1s 2ms/step - loss: 0.0056 - accuracy: 0.9985 - val_loss: 0.0016 - val_accuracy: 1.0000\n",
      "Epoch 22/30\n",
      "819/819 [==============================] - 1s 1ms/step - loss: 0.0054 - accuracy: 0.9983 - val_loss: 0.0032 - val_accuracy: 1.0000\n",
      "Epoch 23/30\n",
      "819/819 [==============================] - 1s 2ms/step - loss: 0.0045 - accuracy: 0.9990 - val_loss: 0.0011 - val_accuracy: 1.0000\n",
      "Epoch 24/30\n",
      "819/819 [==============================] - 1s 2ms/step - loss: 0.0047 - accuracy: 0.9990 - val_loss: 0.0025 - val_accuracy: 0.9978\n",
      "Epoch 25/30\n",
      "819/819 [==============================] - 1s 2ms/step - loss: 0.0066 - accuracy: 0.9985 - val_loss: 0.0016 - val_accuracy: 1.0000\n",
      "Epoch 26/30\n",
      "819/819 [==============================] - 2s 2ms/step - loss: 0.0069 - accuracy: 0.9983 - val_loss: 0.0018 - val_accuracy: 1.0000\n",
      "Epoch 27/30\n",
      "819/819 [==============================] - 2s 2ms/step - loss: 0.0035 - accuracy: 0.9993 - val_loss: 0.0010 - val_accuracy: 1.0000\n",
      "Epoch 28/30\n",
      "819/819 [==============================] - 1s 2ms/step - loss: 0.0040 - accuracy: 0.9988 - val_loss: 0.0018 - val_accuracy: 1.0000\n",
      "Epoch 29/30\n",
      "819/819 [==============================] - 1s 2ms/step - loss: 0.0040 - accuracy: 0.9988 - val_loss: 0.0031 - val_accuracy: 0.9978\n",
      "Epoch 30/30\n",
      "819/819 [==============================] - 1s 2ms/step - loss: 0.0052 - accuracy: 0.9993 - val_loss: 9.2470e-04 - val_accuracy: 1.0000\n"
     ]
    }
   ],
   "source": [
    "# Compiling and Training model\n",
    "model.compile (loss = \"binary_crossentropy\", optimizer = \"adam\", metrics = \"accuracy\")\n",
    "\n",
    "# We use 10% of the training data for a validation set while training the model to see how it performs at each epoch\n",
    "history = model.fit (x_train_s, le_train_y, epochs = 30, batch_size = 5, shuffle = True, validation_split = 0.1, verbose = 1)"
   ]
  },
  {
   "cell_type": "code",
   "execution_count": 97,
   "id": "2913e6f5",
   "metadata": {},
   "outputs": [
    {
     "data": {
      "image/png": "[encoded data removed]",
      "text/plain": [
       "<Figure size 576x432 with 1 Axes>"
      ]
     },
     "metadata": {
      "needs_background": "light"
     },
     "output_type": "display_data"
    }
   ],
   "source": [
    "# Plotting Trained dataset at each epoch\n",
    "pd.DataFrame(history.history).plot (figsize = (8, 6))\n",
    "plt.gca().set_ylim (0, 1)\n",
    "plt.grid (True)\n",
    "plt.show()\n"
   ]
  },
  {
   "cell_type": "code",
   "execution_count": 98,
   "id": "155ff083",
   "metadata": {},
   "outputs": [
    {
     "name": "stdout",
     "output_type": "stream",
     "text": [
      "Accuracy Score of Deep Neural Network (DNN): 99.23%\n"
     ]
    }
   ],
   "source": [
    "# Accuracy of DNN\n",
    "y_pred = model.predict (x_test_s)\n",
    "predictions = []\n",
    "for num in y_pred:\n",
    "    predictions.append (int (np.round (num, 1)))\n",
    "print (\"Accuracy Score of Deep Neural Network (DNN): {}%\".format (round (accuracy_score (le_test_y, predictions) * 100, 2)))"
   ]
  },
  {
   "cell_type": "markdown",
   "id": "5e5944c2",
   "metadata": {},
   "source": [
    "# Predicting Wine Quality\n",
    "we are to predict Quality Label (high, medium or low)\n",
    "\n",
    "## Splitting and Scaling The Dataset"
   ]
  },
  {
   "cell_type": "code",
   "execution_count": 99,
   "id": "e025d8c4",
   "metadata": {},
   "outputs": [
    {
     "name": "stdout",
     "output_type": "stream",
     "text": [
      "y_train: Counter({'medium': 2737, 'low': 1666, 'high': 144}) \n",
      "y_test: Counter({'medium': 1178, 'low': 718, 'high': 54})\n"
     ]
    }
   ],
   "source": [
    "# Defining my Dependent (x) and Independent (y) columns\n",
    "x = wines_df.iloc[:, : -3]        #all columns except wine_type, quality and quality_label\n",
    "y = wines_df[\"quality_label\"]\n",
    "\n",
    "# Splitting Dataset using train_test_split\n",
    "x_train, x_test, y_train, y_test = train_test_split (x, y, train_size = 0.7, random_state = 42)\n",
    "print (\"y_train: {} \\ny_test: {}\".format (Counter (y_train), Counter(y_test)))\n",
    "\n",
    "# Scaling Dataset\n",
    "scaler = StandardScaler ()\n",
    "x_train_s = scaler.fit_transform (x_train)\n",
    "x_test_s = scaler.transform (x_test)"
   ]
  },
  {
   "cell_type": "markdown",
   "id": "72c165f4",
   "metadata": {},
   "source": [
    "# Modeling\n",
    "since we are dealing with a classification Problem we are going to use Classification algorithm. we will use different classification algorithm and then choose the one with the highest accuracy.\n",
    "\n",
    "## DecisionTreeClassifier"
   ]
  },
  {
   "cell_type": "code",
   "execution_count": 106,
   "id": "ea952fa4",
   "metadata": {},
   "outputs": [
    {
     "name": "stdout",
     "output_type": "stream",
     "text": [
      "Best Parameters are: {'max_depth': 5, 'min_samples_leaf': 10}\n",
      "\n",
      "Accuracy score of DecisionTreeClassifier: 72.0%\n"
     ]
    }
   ],
   "source": [
    "# importing required model\n",
    "from sklearn.tree import DecisionTreeClassifier\n",
    "from sklearn.model_selection import GridSearchCV\n",
    "\n",
    "# Training the model\n",
    "dic = {\"min_samples_leaf\": [5, 8, 15, 10, 20], \"max_depth\": [2, 3, 4, 5]}\n",
    "model = DecisionTreeClassifier ()\n",
    "grid = GridSearchCV (model, dic, n_jobs = -1, cv = 5, scoring = \"accuracy\")\n",
    "grid.fit (x_train_s, y_train)\n",
    "best_model = grid.best_estimator_\n",
    "\n",
    "# Accuracy of model\n",
    "y_pred = best_model.predict (x_test_s)\n",
    "print (\"Best Parameters are: {}\\n\".format (grid.best_params_))\n",
    "print (\"Accuracy score of DecisionTreeClassifier: {}%\".format (round (accuracy_score (y_test, y_pred), 2) * 100))"
   ]
  },
  {
   "cell_type": "markdown",
   "id": "f494e262",
   "metadata": {},
   "source": [
    "# Ensemble methods\n",
    "## Random forest classifier (Bagging methods)"
   ]
  },
  {
   "cell_type": "code",
   "execution_count": 114,
   "id": "20ba1c96",
   "metadata": {},
   "outputs": [
    {
     "name": "stderr",
     "output_type": "stream",
     "text": [
      "C:\\Users\\USER\\anaconda3\\lib\\site-packages\\sklearn\\model_selection\\_validation.py:378: FitFailedWarning: \n",
      "75 fits failed out of a total of 225.\n",
      "The score on these train-test partitions for these parameters will be set to nan.\n",
      "If these failures are not expected, you can try to debug them by setting error_score='raise'.\n",
      "\n",
      "Below are more details about the failures:\n",
      "--------------------------------------------------------------------------------\n",
      "75 fits failed with the following error:\n",
      "Traceback (most recent call last):\n",
      "  File \"C:\\Users\\USER\\anaconda3\\lib\\site-packages\\sklearn\\model_selection\\_validation.py\", line 686, in _fit_and_score\n",
      "    estimator.fit(X_train, y_train, **fit_params)\n",
      "  File \"C:\\Users\\USER\\anaconda3\\lib\\site-packages\\sklearn\\ensemble\\_forest.py\", line 476, in fit\n",
      "    trees = Parallel(\n",
      "  File \"C:\\Users\\USER\\anaconda3\\lib\\site-packages\\joblib\\parallel.py\", line 1043, in __call__\n",
      "    if self.dispatch_one_batch(iterator):\n",
      "  File \"C:\\Users\\USER\\anaconda3\\lib\\site-packages\\joblib\\parallel.py\", line 861, in dispatch_one_batch\n",
      "    self._dispatch(tasks)\n",
      "  File \"C:\\Users\\USER\\anaconda3\\lib\\site-packages\\joblib\\parallel.py\", line 779, in _dispatch\n",
      "    job = self._backend.apply_async(batch, callback=cb)\n",
      "  File \"C:\\Users\\USER\\anaconda3\\lib\\site-packages\\joblib\\_parallel_backends.py\", line 208, in apply_async\n",
      "    result = ImmediateResult(func)\n",
      "  File \"C:\\Users\\USER\\anaconda3\\lib\\site-packages\\joblib\\_parallel_backends.py\", line 572, in __init__\n",
      "    self.results = batch()\n",
      "  File \"C:\\Users\\USER\\anaconda3\\lib\\site-packages\\joblib\\parallel.py\", line 262, in __call__\n",
      "    return [func(*args, **kwargs)\n",
      "  File \"C:\\Users\\USER\\anaconda3\\lib\\site-packages\\joblib\\parallel.py\", line 262, in <listcomp>\n",
      "    return [func(*args, **kwargs)\n",
      "  File \"C:\\Users\\USER\\anaconda3\\lib\\site-packages\\sklearn\\utils\\fixes.py\", line 117, in __call__\n",
      "    return self.function(*args, **kwargs)\n",
      "  File \"C:\\Users\\USER\\anaconda3\\lib\\site-packages\\sklearn\\ensemble\\_forest.py\", line 189, in _parallel_build_trees\n",
      "    tree.fit(X, y, sample_weight=curr_sample_weight, check_input=False)\n",
      "  File \"C:\\Users\\USER\\anaconda3\\lib\\site-packages\\sklearn\\tree\\_classes.py\", line 969, in fit\n",
      "    super().fit(\n",
      "  File \"C:\\Users\\USER\\anaconda3\\lib\\site-packages\\sklearn\\tree\\_classes.py\", line 317, in fit\n",
      "    raise ValueError(\n",
      "ValueError: Invalid value for max_features. Allowed string values are 'auto', 'sqrt' or 'log2'.\n",
      "\n",
      "  warnings.warn(some_fits_failed_message, FitFailedWarning)\n",
      "C:\\Users\\USER\\anaconda3\\lib\\site-packages\\sklearn\\model_selection\\_search.py:953: UserWarning: One or more of the test scores are non-finite: [0.72179499 0.72751315 0.72531341        nan        nan        nan\n",
      " 0.72487458 0.72553464 0.7259742  0.73477218 0.73235194 0.73521198\n",
      "        nan        nan        nan 0.73147306 0.73257124 0.73631306\n",
      " 0.74598581 0.74994838 0.74928759        nan        nan        nan\n",
      " 0.74554866 0.7501684  0.74862728 0.76490141 0.76710188 0.76644278\n",
      "        nan        nan        nan 0.76974045 0.767981   0.76710042\n",
      " 0.78909416 0.79305166 0.78865605        nan        nan        nan\n",
      " 0.78887438 0.79393029 0.7890944 ]\n",
      "  warnings.warn(\n"
     ]
    },
    {
     "name": "stdout",
     "output_type": "stream",
     "text": [
      "Best Parameters are: {'max_depth': 15, 'max_features': 'log2', 'n_estimators': 200}\n",
      "\n",
      "Accuracy score of RandomForestClassifier: 80.0%\n"
     ]
    }
   ],
   "source": [
    "# importing required model\n",
    "from sklearn.ensemble import RandomForestClassifier\n",
    "\n",
    "# RandomForestClassifier\n",
    "model = RandomForestClassifier ()\n",
    "dic = {\"n_estimators\": [100, 200, 300], \"max_depth\": [5, 6, 8, 10, 15],\n",
    "       \"max_features\": [\"auto\", \"None\", \"log2\"]}\n",
    "grid = GridSearchCV (model, dic, cv = 5, n_jobs = -1, scoring = \"accuracy\")\n",
    "grid.fit (x_train_s, y_train)\n",
    "best_model = grid.best_estimator_\n",
    "\n",
    "# Accuracy of model\n",
    "y_pred = best_model.predict (x_test_s)\n",
    "print (\"Best Parameters are: {}\\n\".format (grid.best_params_))\n",
    "print (\"Accuracy score of RandomForestClassifier: {}%\".format (round (accuracy_score (y_test, y_pred), 2) * 100))"
   ]
  }
 ],
 "metadata": {
  "kernelspec": {
   "display_name": "Python 3 (ipykernel)",
   "language": "python",
   "name": "python3"
  },
  "language_info": {
   "codemirror_mode": {
    "name": "ipython",
    "version": 3
   },
   "file_extension": ".py",
   "mimetype": "text/x-python",
   "name": "python",
   "nbconvert_exporter": "python",
   "pygments_lexer": "ipython3",
   "version": "3.9.7"
  }
 },
 "nbformat": 4,
 "nbformat_minor": 5
}
